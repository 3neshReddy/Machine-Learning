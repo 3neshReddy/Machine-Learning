{
 "cells": [
  {
   "cell_type": "code",
   "execution_count": null,
   "id": "c9c14fa4",
   "metadata": {},
   "outputs": [],
   "source": [
    "import pandas as pd\n",
    "import matplotlib.pyplot as plt\n",
    "df = pd.read_csv('Samsung.csv')"
   ]
  },
  {
   "cell_type": "code",
   "execution_count": null,
   "id": "792ea90a",
   "metadata": {},
   "outputs": [],
   "source": [
    "df['price'] = (df['High'] + df['High'] + df['Low'] + df['Close']) / 4\n",
    "df['value'] = df['price'] * df['Volume']\n",
    "df['cumulative_price'] = df['price'].cumsum()\n",
    "df['cumulative_volume'] = df['Volume'].cumsum()\n",
    "df['vwap'] = df['cumulative_price'] / df['cumulative_volume']"
   ]
  },
  {
   "cell_type": "code",
   "execution_count": null,
   "id": "f8e9041f",
   "metadata": {},
   "outputs": [],
   "source": [
    "df['vwap'].plot()\n",
    "df['Date']= pd.to_datetime(df['Date'])\n",
    "df.set_index('Date',inplace=True)\n",
    "df.index\n",
    "df = df.asfreq('B').fillna(method='ffill')\n",
    "df.isna().sum()"
   ]
  },
  {
   "cell_type": "code",
   "execution_count": null,
   "id": "c41d04ca",
   "metadata": {},
   "outputs": [],
   "source": [
    "df.index.max()\n",
    "df.index.min()\n",
    "df['2017':'2018']\n",
    "df['2017-01':'2017-02']\n",
    "df['2017-01-01':'2017-01-05']"
   ]
  },
  {
   "cell_type": "code",
   "execution_count": null,
   "id": "959a72ea",
   "metadata": {},
   "outputs": [],
   "source": [
    "y = pd.Period('2016')\n",
    "y.start_time\n",
    "y.end_time"
   ]
  },
  {
   "cell_type": "code",
   "execution_count": null,
   "id": "5fdd0447",
   "metadata": {},
   "outputs": [],
   "source": [
    "# https://pandas.pydata.org/pandas-docs/stable/user_guide/timeseries.html#offset-aliases\n",
    "\n",
    "df['high'].resample('M').mean()\n",
    "df['vwap'].resample('A').mean().plot(kind = 'bar')"
   ]
  },
  {
   "cell_type": "code",
   "execution_count": null,
   "id": "69c30d56",
   "metadata": {},
   "outputs": [],
   "source": [
    "df_vwap.shift(1).head()\n",
    "df_vwap.shift(-1).head()\n",
    "df_vwap.tshift(periods=3, freq = 'M').head()"
   ]
  }
 ],
 "metadata": {
  "kernelspec": {
   "display_name": "Python 3 (ipykernel)",
   "language": "python",
   "name": "python3"
  },
  "language_info": {
   "codemirror_mode": {
    "name": "ipython",
    "version": 3
   },
   "file_extension": ".py",
   "mimetype": "text/x-python",
   "name": "python",
   "nbconvert_exporter": "python",
   "pygments_lexer": "ipython3",
   "version": "3.10.8"
  }
 },
 "nbformat": 4,
 "nbformat_minor": 5
}
